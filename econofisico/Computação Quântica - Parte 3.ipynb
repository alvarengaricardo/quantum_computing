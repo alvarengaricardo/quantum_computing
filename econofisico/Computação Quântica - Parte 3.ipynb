{
 "cells": [
  {
   "cell_type": "markdown",
   "metadata": {
    "id": "ZHJ08xaBx7fU"
   },
   "source": [
    "\n",
    "# **Qiskit** - AerSimulator\n"
   ]
  },
  {
   "cell_type": "markdown",
   "metadata": {
    "id": "-PyqGJdux9oz"
   },
   "source": [
    "Simulador mais eficiente implementado em C++ com muitas caracteristicas não disponíveis no BasicSimulator"
   ]
  },
  {
   "cell_type": "code",
   "execution_count": 1,
   "metadata": {
    "id": "i5m6WN4Ox-Hs"
   },
   "outputs": [
    {
     "name": "stdout",
     "output_type": "stream",
     "text": [
      "Requirement already satisfied: qiskit[visualization] in c:\\users\\ricardo\\appdata\\local\\programs\\python\\python312\\lib\\site-packages (1.1.1)\n",
      "Requirement already satisfied: rustworkx>=0.14.0 in c:\\users\\ricardo\\appdata\\local\\programs\\python\\python312\\lib\\site-packages (from qiskit[visualization]) (0.14.2)\n",
      "Requirement already satisfied: numpy<3,>=1.17 in c:\\users\\ricardo\\appdata\\local\\programs\\python\\python312\\lib\\site-packages (from qiskit[visualization]) (1.26.4)\n",
      "Requirement already satisfied: scipy>=1.5 in c:\\users\\ricardo\\appdata\\local\\programs\\python\\python312\\lib\\site-packages (from qiskit[visualization]) (1.12.0)\n",
      "Requirement already satisfied: sympy>=1.3 in c:\\users\\ricardo\\appdata\\local\\programs\\python\\python312\\lib\\site-packages (from qiskit[visualization]) (1.12)\n",
      "Requirement already satisfied: dill>=0.3 in c:\\users\\ricardo\\appdata\\local\\programs\\python\\python312\\lib\\site-packages (from qiskit[visualization]) (0.3.8)\n",
      "Requirement already satisfied: python-dateutil>=2.8.0 in c:\\users\\ricardo\\appdata\\local\\programs\\python\\python312\\lib\\site-packages (from qiskit[visualization]) (2.9.0.post0)\n",
      "Requirement already satisfied: stevedore>=3.0.0 in c:\\users\\ricardo\\appdata\\local\\programs\\python\\python312\\lib\\site-packages (from qiskit[visualization]) (5.2.0)\n",
      "Requirement already satisfied: typing-extensions in c:\\users\\ricardo\\appdata\\local\\programs\\python\\python312\\lib\\site-packages (from qiskit[visualization]) (4.10.0)\n",
      "Requirement already satisfied: symengine>=0.11 in c:\\users\\ricardo\\appdata\\local\\programs\\python\\python312\\lib\\site-packages (from qiskit[visualization]) (0.11.0)\n",
      "Requirement already satisfied: matplotlib>=3.3 in c:\\users\\ricardo\\appdata\\local\\programs\\python\\python312\\lib\\site-packages (from qiskit[visualization]) (3.8.3)\n",
      "Requirement already satisfied: pydot in c:\\users\\ricardo\\appdata\\local\\programs\\python\\python312\\lib\\site-packages (from qiskit[visualization]) (2.0.0)\n",
      "Requirement already satisfied: Pillow>=4.2.1 in c:\\users\\ricardo\\appdata\\local\\programs\\python\\python312\\lib\\site-packages (from qiskit[visualization]) (10.2.0)\n",
      "Requirement already satisfied: pylatexenc>=1.4 in c:\\users\\ricardo\\appdata\\local\\programs\\python\\python312\\lib\\site-packages (from qiskit[visualization]) (2.10)\n",
      "Requirement already satisfied: seaborn>=0.9.0 in c:\\users\\ricardo\\appdata\\local\\programs\\python\\python312\\lib\\site-packages (from qiskit[visualization]) (0.13.2)\n",
      "Requirement already satisfied: contourpy>=1.0.1 in c:\\users\\ricardo\\appdata\\local\\programs\\python\\python312\\lib\\site-packages (from matplotlib>=3.3->qiskit[visualization]) (1.2.0)\n",
      "Requirement already satisfied: cycler>=0.10 in c:\\users\\ricardo\\appdata\\local\\programs\\python\\python312\\lib\\site-packages (from matplotlib>=3.3->qiskit[visualization]) (0.12.1)\n",
      "Requirement already satisfied: fonttools>=4.22.0 in c:\\users\\ricardo\\appdata\\local\\programs\\python\\python312\\lib\\site-packages (from matplotlib>=3.3->qiskit[visualization]) (4.49.0)\n",
      "Requirement already satisfied: kiwisolver>=1.3.1 in c:\\users\\ricardo\\appdata\\local\\programs\\python\\python312\\lib\\site-packages (from matplotlib>=3.3->qiskit[visualization]) (1.4.5)\n",
      "Requirement already satisfied: packaging>=20.0 in c:\\users\\ricardo\\appdata\\local\\programs\\python\\python312\\lib\\site-packages (from matplotlib>=3.3->qiskit[visualization]) (23.2)\n",
      "Requirement already satisfied: pyparsing>=2.3.1 in c:\\users\\ricardo\\appdata\\local\\programs\\python\\python312\\lib\\site-packages (from matplotlib>=3.3->qiskit[visualization]) (3.1.1)\n",
      "Requirement already satisfied: six>=1.5 in c:\\users\\ricardo\\appdata\\local\\programs\\python\\python312\\lib\\site-packages (from python-dateutil>=2.8.0->qiskit[visualization]) (1.16.0)\n",
      "Requirement already satisfied: pandas>=1.2 in c:\\users\\ricardo\\appdata\\local\\programs\\python\\python312\\lib\\site-packages (from seaborn>=0.9.0->qiskit[visualization]) (2.2.1)\n",
      "Requirement already satisfied: pbr!=2.1.0,>=2.0.0 in c:\\users\\ricardo\\appdata\\local\\programs\\python\\python312\\lib\\site-packages (from stevedore>=3.0.0->qiskit[visualization]) (6.0.0)\n",
      "Requirement already satisfied: mpmath>=0.19 in c:\\users\\ricardo\\appdata\\local\\programs\\python\\python312\\lib\\site-packages (from sympy>=1.3->qiskit[visualization]) (1.3.0)\n",
      "Requirement already satisfied: pytz>=2020.1 in c:\\users\\ricardo\\appdata\\local\\programs\\python\\python312\\lib\\site-packages (from pandas>=1.2->seaborn>=0.9.0->qiskit[visualization]) (2024.1)\n",
      "Requirement already satisfied: tzdata>=2022.7 in c:\\users\\ricardo\\appdata\\local\\programs\\python\\python312\\lib\\site-packages (from pandas>=1.2->seaborn>=0.9.0->qiskit[visualization]) (2024.1)\n",
      "Requirement already satisfied: qiskit-aer in c:\\users\\ricardo\\appdata\\local\\programs\\python\\python312\\lib\\site-packages (0.14.2)\n",
      "Requirement already satisfied: qiskit>=0.45.2 in c:\\users\\ricardo\\appdata\\local\\programs\\python\\python312\\lib\\site-packages (from qiskit-aer) (1.1.1)\n",
      "Requirement already satisfied: numpy>=1.16.3 in c:\\users\\ricardo\\appdata\\local\\programs\\python\\python312\\lib\\site-packages (from qiskit-aer) (1.26.4)\n",
      "Requirement already satisfied: scipy>=1.0 in c:\\users\\ricardo\\appdata\\local\\programs\\python\\python312\\lib\\site-packages (from qiskit-aer) (1.12.0)\n",
      "Requirement already satisfied: psutil>=5 in c:\\users\\ricardo\\appdata\\local\\programs\\python\\python312\\lib\\site-packages (from qiskit-aer) (5.9.8)\n",
      "Requirement already satisfied: rustworkx>=0.14.0 in c:\\users\\ricardo\\appdata\\local\\programs\\python\\python312\\lib\\site-packages (from qiskit>=0.45.2->qiskit-aer) (0.14.2)\n",
      "Requirement already satisfied: sympy>=1.3 in c:\\users\\ricardo\\appdata\\local\\programs\\python\\python312\\lib\\site-packages (from qiskit>=0.45.2->qiskit-aer) (1.12)\n",
      "Requirement already satisfied: dill>=0.3 in c:\\users\\ricardo\\appdata\\local\\programs\\python\\python312\\lib\\site-packages (from qiskit>=0.45.2->qiskit-aer) (0.3.8)\n",
      "Requirement already satisfied: python-dateutil>=2.8.0 in c:\\users\\ricardo\\appdata\\local\\programs\\python\\python312\\lib\\site-packages (from qiskit>=0.45.2->qiskit-aer) (2.9.0.post0)\n",
      "Requirement already satisfied: stevedore>=3.0.0 in c:\\users\\ricardo\\appdata\\local\\programs\\python\\python312\\lib\\site-packages (from qiskit>=0.45.2->qiskit-aer) (5.2.0)\n",
      "Requirement already satisfied: typing-extensions in c:\\users\\ricardo\\appdata\\local\\programs\\python\\python312\\lib\\site-packages (from qiskit>=0.45.2->qiskit-aer) (4.10.0)\n",
      "Requirement already satisfied: symengine>=0.11 in c:\\users\\ricardo\\appdata\\local\\programs\\python\\python312\\lib\\site-packages (from qiskit>=0.45.2->qiskit-aer) (0.11.0)\n",
      "Requirement already satisfied: six>=1.5 in c:\\users\\ricardo\\appdata\\local\\programs\\python\\python312\\lib\\site-packages (from python-dateutil>=2.8.0->qiskit>=0.45.2->qiskit-aer) (1.16.0)\n",
      "Requirement already satisfied: pbr!=2.1.0,>=2.0.0 in c:\\users\\ricardo\\appdata\\local\\programs\\python\\python312\\lib\\site-packages (from stevedore>=3.0.0->qiskit>=0.45.2->qiskit-aer) (6.0.0)\n",
      "Requirement already satisfied: mpmath>=0.19 in c:\\users\\ricardo\\appdata\\local\\programs\\python\\python312\\lib\\site-packages (from sympy>=1.3->qiskit>=0.45.2->qiskit-aer) (1.3.0)\n",
      "Requirement already satisfied: qiskit-ibm-runtime in c:\\users\\ricardo\\appdata\\local\\programs\\python\\python312\\lib\\site-packages (0.25.0)\n",
      "Requirement already satisfied: requests>=2.19 in c:\\users\\ricardo\\appdata\\local\\programs\\python\\python312\\lib\\site-packages (from qiskit-ibm-runtime) (2.31.0)\n",
      "Requirement already satisfied: requests-ntlm>=1.1.0 in c:\\users\\ricardo\\appdata\\local\\programs\\python\\python312\\lib\\site-packages (from qiskit-ibm-runtime) (1.3.0)\n",
      "Requirement already satisfied: numpy>=1.13 in c:\\users\\ricardo\\appdata\\local\\programs\\python\\python312\\lib\\site-packages (from qiskit-ibm-runtime) (1.26.4)\n",
      "Requirement already satisfied: urllib3>=1.21.1 in c:\\users\\ricardo\\appdata\\local\\programs\\python\\python312\\lib\\site-packages (from qiskit-ibm-runtime) (2.2.1)\n",
      "Requirement already satisfied: python-dateutil>=2.8.0 in c:\\users\\ricardo\\appdata\\local\\programs\\python\\python312\\lib\\site-packages (from qiskit-ibm-runtime) (2.9.0.post0)\n",
      "Requirement already satisfied: websocket-client>=1.5.1 in c:\\users\\ricardo\\appdata\\local\\programs\\python\\python312\\lib\\site-packages (from qiskit-ibm-runtime) (1.7.0)\n",
      "Requirement already satisfied: ibm-platform-services>=0.22.6 in c:\\users\\ricardo\\appdata\\local\\programs\\python\\python312\\lib\\site-packages (from qiskit-ibm-runtime) (0.55.1)\n",
      "Requirement already satisfied: pydantic>=2.5.0 in c:\\users\\ricardo\\appdata\\local\\programs\\python\\python312\\lib\\site-packages (from qiskit-ibm-runtime) (2.8.2)\n",
      "Requirement already satisfied: qiskit>=1.1.0 in c:\\users\\ricardo\\appdata\\local\\programs\\python\\python312\\lib\\site-packages (from qiskit-ibm-runtime) (1.1.1)\n",
      "Requirement already satisfied: ibm-cloud-sdk-core<4.0.0,>=3.20.3 in c:\\users\\ricardo\\appdata\\local\\programs\\python\\python312\\lib\\site-packages (from ibm-platform-services>=0.22.6->qiskit-ibm-runtime) (3.20.3)\n",
      "Requirement already satisfied: annotated-types>=0.4.0 in c:\\users\\ricardo\\appdata\\local\\programs\\python\\python312\\lib\\site-packages (from pydantic>=2.5.0->qiskit-ibm-runtime) (0.7.0)\n",
      "Requirement already satisfied: pydantic-core==2.20.1 in c:\\users\\ricardo\\appdata\\local\\programs\\python\\python312\\lib\\site-packages (from pydantic>=2.5.0->qiskit-ibm-runtime) (2.20.1)\n",
      "Requirement already satisfied: typing-extensions>=4.6.1 in c:\\users\\ricardo\\appdata\\local\\programs\\python\\python312\\lib\\site-packages (from pydantic>=2.5.0->qiskit-ibm-runtime) (4.10.0)\n",
      "Requirement already satisfied: six>=1.5 in c:\\users\\ricardo\\appdata\\local\\programs\\python\\python312\\lib\\site-packages (from python-dateutil>=2.8.0->qiskit-ibm-runtime) (1.16.0)\n",
      "Requirement already satisfied: rustworkx>=0.14.0 in c:\\users\\ricardo\\appdata\\local\\programs\\python\\python312\\lib\\site-packages (from qiskit>=1.1.0->qiskit-ibm-runtime) (0.14.2)\n",
      "Requirement already satisfied: scipy>=1.5 in c:\\users\\ricardo\\appdata\\local\\programs\\python\\python312\\lib\\site-packages (from qiskit>=1.1.0->qiskit-ibm-runtime) (1.12.0)\n",
      "Requirement already satisfied: sympy>=1.3 in c:\\users\\ricardo\\appdata\\local\\programs\\python\\python312\\lib\\site-packages (from qiskit>=1.1.0->qiskit-ibm-runtime) (1.12)\n",
      "Requirement already satisfied: dill>=0.3 in c:\\users\\ricardo\\appdata\\local\\programs\\python\\python312\\lib\\site-packages (from qiskit>=1.1.0->qiskit-ibm-runtime) (0.3.8)\n",
      "Requirement already satisfied: stevedore>=3.0.0 in c:\\users\\ricardo\\appdata\\local\\programs\\python\\python312\\lib\\site-packages (from qiskit>=1.1.0->qiskit-ibm-runtime) (5.2.0)\n",
      "Requirement already satisfied: symengine>=0.11 in c:\\users\\ricardo\\appdata\\local\\programs\\python\\python312\\lib\\site-packages (from qiskit>=1.1.0->qiskit-ibm-runtime) (0.11.0)\n",
      "Requirement already satisfied: charset-normalizer<4,>=2 in c:\\users\\ricardo\\appdata\\local\\programs\\python\\python312\\lib\\site-packages (from requests>=2.19->qiskit-ibm-runtime) (3.3.2)\n",
      "Requirement already satisfied: idna<4,>=2.5 in c:\\users\\ricardo\\appdata\\local\\programs\\python\\python312\\lib\\site-packages (from requests>=2.19->qiskit-ibm-runtime) (3.6)\n",
      "Requirement already satisfied: certifi>=2017.4.17 in c:\\users\\ricardo\\appdata\\local\\programs\\python\\python312\\lib\\site-packages (from requests>=2.19->qiskit-ibm-runtime) (2024.2.2)\n",
      "Requirement already satisfied: cryptography>=1.3 in c:\\users\\ricardo\\appdata\\local\\programs\\python\\python312\\lib\\site-packages (from requests-ntlm>=1.1.0->qiskit-ibm-runtime) (42.0.8)\n",
      "Requirement already satisfied: pyspnego>=0.4.0 in c:\\users\\ricardo\\appdata\\local\\programs\\python\\python312\\lib\\site-packages (from requests-ntlm>=1.1.0->qiskit-ibm-runtime) (0.11.0)\n",
      "Requirement already satisfied: cffi>=1.12 in c:\\users\\ricardo\\appdata\\local\\programs\\python\\python312\\lib\\site-packages (from cryptography>=1.3->requests-ntlm>=1.1.0->qiskit-ibm-runtime) (1.16.0)\n",
      "Requirement already satisfied: PyJWT<3.0.0,>=2.8.0 in c:\\users\\ricardo\\appdata\\local\\programs\\python\\python312\\lib\\site-packages (from ibm-cloud-sdk-core<4.0.0,>=3.20.3->ibm-platform-services>=0.22.6->qiskit-ibm-runtime) (2.8.0)\n",
      "Requirement already satisfied: sspilib>=0.1.0 in c:\\users\\ricardo\\appdata\\local\\programs\\python\\python312\\lib\\site-packages (from pyspnego>=0.4.0->requests-ntlm>=1.1.0->qiskit-ibm-runtime) (0.1.0)\n",
      "Requirement already satisfied: pbr!=2.1.0,>=2.0.0 in c:\\users\\ricardo\\appdata\\local\\programs\\python\\python312\\lib\\site-packages (from stevedore>=3.0.0->qiskit>=1.1.0->qiskit-ibm-runtime) (6.0.0)\n",
      "Requirement already satisfied: mpmath>=0.19 in c:\\users\\ricardo\\appdata\\local\\programs\\python\\python312\\lib\\site-packages (from sympy>=1.3->qiskit>=1.1.0->qiskit-ibm-runtime) (1.3.0)\n",
      "Requirement already satisfied: pycparser in c:\\users\\ricardo\\appdata\\local\\programs\\python\\python312\\lib\\site-packages (from cffi>=1.12->cryptography>=1.3->requests-ntlm>=1.1.0->qiskit-ibm-runtime) (2.22)\n"
     ]
    }
   ],
   "source": [
    "!pip install qiskit[visualization]\n",
    "# Instalação do Qiskit e pacotes adicionais de visualização\n",
    "\n",
    "!pip install qiskit-aer\n",
    "# Instalação do Qiskit Aer, que fornece simuladores de alto desempenho para circuitos quânticos\n",
    "\n",
    "!pip install qiskit-ibm-runtime\n",
    "# Instalação do Qiskit IBM Quantum Runtime, permitindo acesso a recursos de computação quântica em nuvem"
   ]
  },
  {
   "cell_type": "markdown",
   "metadata": {
    "id": "dxZzpOh1rq8K"
   },
   "source": [
    "**Encontrando os vetores de estados em um cricuito com medições**"
   ]
  },
  {
   "cell_type": "code",
   "execution_count": 2,
   "metadata": {
    "id": "cL56nslxrgno"
   },
   "outputs": [],
   "source": [
    "from qiskit import QuantumCircuit, transpile\n",
    "from qiskit.quantum_info import Statevector\n",
    "from qiskit.providers.basic_provider import BasicSimulator\n",
    "\n",
    "simulator_basic = BasicSimulator()"
   ]
  },
  {
   "cell_type": "code",
   "execution_count": 3,
   "metadata": {
    "id": "U2azzsgJrg7-"
   },
   "outputs": [
    {
     "data": {
      "image/png": "[encoded data removed]",
      "text/plain": [
       "<Figure size 370.906x284.278 with 1 Axes>"
      ]
     },
     "execution_count": 3,
     "metadata": {},
     "output_type": "execute_result"
    }
   ],
   "source": [
    "qc = QuantumCircuit(2,1)\n",
    "qc.h(0)\n",
    "qc.measure(0,0)\n",
    "qc.h(1).c_if(0,1)\n",
    "qc.draw('mpl')"
   ]
  },
  {
   "cell_type": "markdown",
   "metadata": {
    "id": "3VPsYbsjss5-"
   },
   "source": [
    "Metade do tempo: |0> |0>\n",
    "\n",
    "Metade do tempo: (|0>+|1>)|1>"
   ]
  },
  {
   "cell_type": "code",
   "execution_count": 4,
   "metadata": {
    "id": "D_AEx7mUssiW"
   },
   "outputs": [
    {
     "ename": "QiskitError",
     "evalue": "'Cannot apply instruction with classical bits: measure'",
     "output_type": "error",
     "traceback": [
      "\u001b[1;31m---------------------------------------------------------------------------\u001b[0m",
      "\u001b[1;31mQiskitError\u001b[0m                               Traceback (most recent call last)",
      "Cell \u001b[1;32mIn[4], line 1\u001b[0m\n\u001b[1;32m----> 1\u001b[0m psi \u001b[38;5;241m=\u001b[39m \u001b[43mStatevector\u001b[49m\u001b[43m(\u001b[49m\u001b[43mqc\u001b[49m\u001b[43m)\u001b[49m\n",
      "File \u001b[1;32m~\\AppData\\Local\\Programs\\Python\\Python312\\Lib\\site-packages\\qiskit\\quantum_info\\states\\statevector.py:93\u001b[0m, in \u001b[0;36mStatevector.__init__\u001b[1;34m(self, data, dims)\u001b[0m\n\u001b[0;32m     91\u001b[0m     \u001b[38;5;28mself\u001b[39m\u001b[38;5;241m.\u001b[39m_data \u001b[38;5;241m=\u001b[39m np\u001b[38;5;241m.\u001b[39mravel(data\u001b[38;5;241m.\u001b[39mdata)\n\u001b[0;32m     92\u001b[0m \u001b[38;5;28;01melif\u001b[39;00m \u001b[38;5;28misinstance\u001b[39m(data, (QuantumCircuit, Instruction)):\n\u001b[1;32m---> 93\u001b[0m     \u001b[38;5;28mself\u001b[39m\u001b[38;5;241m.\u001b[39m_data \u001b[38;5;241m=\u001b[39m \u001b[43mStatevector\u001b[49m\u001b[38;5;241;43m.\u001b[39;49m\u001b[43mfrom_instruction\u001b[49m\u001b[43m(\u001b[49m\u001b[43mdata\u001b[49m\u001b[43m)\u001b[49m\u001b[38;5;241m.\u001b[39mdata\n\u001b[0;32m     94\u001b[0m \u001b[38;5;28;01melse\u001b[39;00m:\n\u001b[0;32m     95\u001b[0m     \u001b[38;5;28;01mraise\u001b[39;00m QiskitError(\u001b[38;5;124m\"\u001b[39m\u001b[38;5;124mInvalid input data format for Statevector\u001b[39m\u001b[38;5;124m\"\u001b[39m)\n",
      "File \u001b[1;32m~\\AppData\\Local\\Programs\\Python\\Python312\\Lib\\site-packages\\qiskit\\quantum_info\\states\\statevector.py:769\u001b[0m, in \u001b[0;36mStatevector.from_instruction\u001b[1;34m(cls, instruction)\u001b[0m\n\u001b[0;32m    767\u001b[0m init[\u001b[38;5;241m0\u001b[39m] \u001b[38;5;241m=\u001b[39m \u001b[38;5;241m1.0\u001b[39m\n\u001b[0;32m    768\u001b[0m vec \u001b[38;5;241m=\u001b[39m Statevector(init, dims\u001b[38;5;241m=\u001b[39minstruction\u001b[38;5;241m.\u001b[39mnum_qubits \u001b[38;5;241m*\u001b[39m (\u001b[38;5;241m2\u001b[39m,))\n\u001b[1;32m--> 769\u001b[0m \u001b[38;5;28;01mreturn\u001b[39;00m \u001b[43mStatevector\u001b[49m\u001b[38;5;241;43m.\u001b[39;49m\u001b[43m_evolve_instruction\u001b[49m\u001b[43m(\u001b[49m\u001b[43mvec\u001b[49m\u001b[43m,\u001b[49m\u001b[43m \u001b[49m\u001b[43minstruction\u001b[49m\u001b[43m)\u001b[49m\n",
      "File \u001b[1;32m~\\AppData\\Local\\Programs\\Python\\Python312\\Lib\\site-packages\\qiskit\\quantum_info\\states\\statevector.py:953\u001b[0m, in \u001b[0;36mStatevector._evolve_instruction\u001b[1;34m(statevec, obj, qargs)\u001b[0m\n\u001b[0;32m    951\u001b[0m \u001b[38;5;28;01mfor\u001b[39;00m instruction \u001b[38;5;129;01min\u001b[39;00m obj\u001b[38;5;241m.\u001b[39mdefinition:\n\u001b[0;32m    952\u001b[0m     \u001b[38;5;28;01mif\u001b[39;00m instruction\u001b[38;5;241m.\u001b[39mclbits:\n\u001b[1;32m--> 953\u001b[0m         \u001b[38;5;28;01mraise\u001b[39;00m QiskitError(\n\u001b[0;32m    954\u001b[0m             \u001b[38;5;124mf\u001b[39m\u001b[38;5;124m\"\u001b[39m\u001b[38;5;124mCannot apply instruction with classical bits: \u001b[39m\u001b[38;5;132;01m{\u001b[39;00minstruction\u001b[38;5;241m.\u001b[39moperation\u001b[38;5;241m.\u001b[39mname\u001b[38;5;132;01m}\u001b[39;00m\u001b[38;5;124m\"\u001b[39m\n\u001b[0;32m    955\u001b[0m         )\n\u001b[0;32m    956\u001b[0m     \u001b[38;5;66;03m# Get the integer position of the flat register\u001b[39;00m\n\u001b[0;32m    957\u001b[0m     \u001b[38;5;28;01mif\u001b[39;00m qargs \u001b[38;5;129;01mis\u001b[39;00m \u001b[38;5;28;01mNone\u001b[39;00m:\n",
      "\u001b[1;31mQiskitError\u001b[0m: 'Cannot apply instruction with classical bits: measure'"
     ]
    }
   ],
   "source": [
    "psi = Statevector(qc)"
   ]
  },
  {
   "cell_type": "code",
   "execution_count": 5,
   "metadata": {
    "id": "uR3VAZavsjCR"
   },
   "outputs": [
    {
     "name": "stdout",
     "output_type": "stream",
     "text": [
      "{'0': 523, '1': 501}\n"
     ]
    }
   ],
   "source": [
    "qc_basic = transpile(qc, backend=simulator_basic)\n",
    "\n",
    "result = simulator_basic.run(qc_basic, shots = 1024).result()\n",
    "counts = result.get_counts()\n",
    "print(counts)"
   ]
  },
  {
   "cell_type": "code",
   "execution_count": 6,
   "metadata": {
    "id": "6FR6naVeslYM"
   },
   "outputs": [],
   "source": [
    "from qiskit_aer import AerSimulator #importando o simulador Aer do pacote qiskit_aer\n",
    "simulator_aer = AerSimulator() #criando um objeto como fizemos para o BasicSimulator"
   ]
  },
  {
   "cell_type": "code",
   "execution_count": 7,
   "metadata": {
    "id": "pKFPtIl_sliA"
   },
   "outputs": [
    {
     "data": {
      "image/png": "[encoded data removed]",
      "text/plain": [
       "<Figure size 621.739x284.278 with 1 Axes>"
      ]
     },
     "execution_count": 7,
     "metadata": {},
     "output_type": "execute_result"
    }
   ],
   "source": [
    "qc = QuantumCircuit(2,1)\n",
    "qc.h(0)\n",
    "qc.measure(0,0)\n",
    "qc.h(1).c_if(0,1)\n",
    "qc.save_statevector() #vamos introduzir este novo recurso\n",
    "qc.draw('mpl')"
   ]
  },
  {
   "cell_type": "code",
   "execution_count": 8,
   "metadata": {
    "id": "UTKVajdpslkw"
   },
   "outputs": [
    {
     "data": {
      "text/latex": [
       "$$\\frac{\\sqrt{2}}{2} |01\\rangle+\\frac{\\sqrt{2}}{2} |11\\rangle$$"
      ],
      "text/plain": [
       "<IPython.core.display.Latex object>"
      ]
     },
     "execution_count": 8,
     "metadata": {},
     "output_type": "execute_result"
    }
   ],
   "source": [
    "qc_aer = transpile(qc, backend=simulator_aer)\n",
    "\n",
    "result = simulator_aer.run(qc_aer).result()\n",
    "#result = simulator_aer.run(qc_aer,shots=1024).result() -> Eu não preciso rodar 1024 vezes porque me interesso apenas pelo estado.\n",
    "#então rodo apenas uma vez\n",
    "psi = result.get_statevector()\n",
    "psi.draw('latex')"
   ]
  },
  {
   "cell_type": "code",
   "execution_count": 9,
   "metadata": {
    "id": "myv5nRWzslnc"
   },
   "outputs": [
    {
     "ename": "QiskitError",
     "evalue": "'No statevector for experiment \"None\"'",
     "output_type": "error",
     "traceback": [
      "\u001b[1;31m---------------------------------------------------------------------------\u001b[0m",
      "\u001b[1;31mKeyError\u001b[0m                                  Traceback (most recent call last)",
      "File \u001b[1;32m~\\AppData\\Local\\Programs\\Python\\Python312\\Lib\\site-packages\\qiskit\\result\\result.py:314\u001b[0m, in \u001b[0;36mResult.get_statevector\u001b[1;34m(self, experiment, decimals)\u001b[0m\n\u001b[0;32m    312\u001b[0m \u001b[38;5;28;01mtry\u001b[39;00m:\n\u001b[0;32m    313\u001b[0m     \u001b[38;5;28;01mreturn\u001b[39;00m postprocess\u001b[38;5;241m.\u001b[39mformat_statevector(\n\u001b[1;32m--> 314\u001b[0m         \u001b[38;5;28;43mself\u001b[39;49m\u001b[38;5;241;43m.\u001b[39;49m\u001b[43mdata\u001b[49m\u001b[43m(\u001b[49m\u001b[43mexperiment\u001b[49m\u001b[43m)\u001b[49m\u001b[43m[\u001b[49m\u001b[38;5;124;43m\"\u001b[39;49m\u001b[38;5;124;43mstatevector\u001b[39;49m\u001b[38;5;124;43m\"\u001b[39;49m\u001b[43m]\u001b[49m, decimals\u001b[38;5;241m=\u001b[39mdecimals\n\u001b[0;32m    315\u001b[0m     )\n\u001b[0;32m    316\u001b[0m \u001b[38;5;28;01mexcept\u001b[39;00m \u001b[38;5;167;01mKeyError\u001b[39;00m \u001b[38;5;28;01mas\u001b[39;00m ex:\n",
      "\u001b[1;31mKeyError\u001b[0m: 'statevector'",
      "\nThe above exception was the direct cause of the following exception:\n",
      "\u001b[1;31mQiskitError\u001b[0m                               Traceback (most recent call last)",
      "Cell \u001b[1;32mIn[9], line 2\u001b[0m\n\u001b[0;32m      1\u001b[0m result \u001b[38;5;241m=\u001b[39m simulator_aer\u001b[38;5;241m.\u001b[39mrun(qc_basic)\u001b[38;5;241m.\u001b[39mresult()\n\u001b[1;32m----> 2\u001b[0m psi \u001b[38;5;241m=\u001b[39m \u001b[43mresult\u001b[49m\u001b[38;5;241;43m.\u001b[39;49m\u001b[43mget_statevector\u001b[49m\u001b[43m(\u001b[49m\u001b[43m)\u001b[49m\n\u001b[0;32m      3\u001b[0m psi\u001b[38;5;241m.\u001b[39mdraw(\u001b[38;5;124m'\u001b[39m\u001b[38;5;124mlatex\u001b[39m\u001b[38;5;124m'\u001b[39m)\n",
      "File \u001b[1;32m~\\AppData\\Local\\Programs\\Python\\Python312\\Lib\\site-packages\\qiskit\\result\\result.py:317\u001b[0m, in \u001b[0;36mResult.get_statevector\u001b[1;34m(self, experiment, decimals)\u001b[0m\n\u001b[0;32m    313\u001b[0m     \u001b[38;5;28;01mreturn\u001b[39;00m postprocess\u001b[38;5;241m.\u001b[39mformat_statevector(\n\u001b[0;32m    314\u001b[0m         \u001b[38;5;28mself\u001b[39m\u001b[38;5;241m.\u001b[39mdata(experiment)[\u001b[38;5;124m\"\u001b[39m\u001b[38;5;124mstatevector\u001b[39m\u001b[38;5;124m\"\u001b[39m], decimals\u001b[38;5;241m=\u001b[39mdecimals\n\u001b[0;32m    315\u001b[0m     )\n\u001b[0;32m    316\u001b[0m \u001b[38;5;28;01mexcept\u001b[39;00m \u001b[38;5;167;01mKeyError\u001b[39;00m \u001b[38;5;28;01mas\u001b[39;00m ex:\n\u001b[1;32m--> 317\u001b[0m     \u001b[38;5;28;01mraise\u001b[39;00m QiskitError(\u001b[38;5;124mf\u001b[39m\u001b[38;5;124m'\u001b[39m\u001b[38;5;124mNo statevector for experiment \u001b[39m\u001b[38;5;124m\"\u001b[39m\u001b[38;5;132;01m{\u001b[39;00m\u001b[38;5;28mrepr\u001b[39m(experiment)\u001b[38;5;132;01m}\u001b[39;00m\u001b[38;5;124m\"\u001b[39m\u001b[38;5;124m'\u001b[39m) \u001b[38;5;28;01mfrom\u001b[39;00m \u001b[38;5;21;01mex\u001b[39;00m\n",
      "\u001b[1;31mQiskitError\u001b[0m: 'No statevector for experiment \"None\"'"
     ]
    }
   ],
   "source": [
    "result = simulator_aer.run(qc_basic).result()\n",
    "psi = result.get_statevector()\n",
    "psi.draw('latex')"
   ]
  },
  {
   "cell_type": "markdown",
   "metadata": {
    "id": "idJQC4NPv82V"
   },
   "source": [
    "Outro exemplo"
   ]
  },
  {
   "cell_type": "code",
   "execution_count": null,
   "metadata": {
    "id": "qtu9nW-qslp0"
   },
   "outputs": [],
   "source": [
    "qc = QuantumCircuit(4)\n",
    "qc.h(0)\n",
    "qc.cx(0,1)\n",
    "qc.save_statevector()\n",
    "qc.cx(0,2)\n",
    "qc.cx(0,3)\n",
    "qc.measure_all()\n",
    "qc.draw('mpl')"
   ]
  },
  {
   "cell_type": "code",
   "execution_count": null,
   "metadata": {
    "id": "W_g-yxSqwnIj"
   },
   "outputs": [],
   "source": [
    "qc_aer = transpile(qc, backend=simulator_aer)\n",
    "\n",
    "result = simulator_aer.run(qc_aer).result()\n",
    "psi = result.get_statevector()\n",
    "psi.draw('latex')"
   ]
  },
  {
   "cell_type": "markdown",
   "metadata": {
    "id": "UBTsnF9qwxe1"
   },
   "source": [
    "**Simuladores Eficientes**\n"
   ]
  },
  {
   "cell_type": "code",
   "execution_count": null,
   "metadata": {
    "id": "9oXl8LHVwnNA"
   },
   "outputs": [],
   "source": [
    "n = 24   #rode com 5; 24\n",
    "qc = QuantumCircuit(n)\n",
    "qc.h(0)\n",
    "for i in range(0,n-1,+1):\n",
    "  qc.cx(i,i+1)\n",
    "\n",
    "qc.measure_all()\n",
    "qc.draw('mpl')"
   ]
  },
  {
   "cell_type": "code",
   "execution_count": null,
   "metadata": {
    "id": "q5tZeM-WwnPl"
   },
   "outputs": [],
   "source": [
    "%%time\n",
    "\n",
    "result = simulator_basic.run(qc, shots = 1024).result()\n",
    "counts = result.get_counts()\n",
    "print(counts)"
   ]
  },
  {
   "cell_type": "code",
   "execution_count": null,
   "metadata": {
    "id": "wHrNnkU3wnSH"
   },
   "outputs": [],
   "source": [
    "%%time\n",
    "\n",
    "result = simulator_aer.run(qc, shots = 1024).result()\n",
    "counts = result.get_counts()\n",
    "print(counts)"
   ]
  },
  {
   "cell_type": "code",
   "execution_count": null,
   "metadata": {
    "id": "A-l6prviwnUS"
   },
   "outputs": [],
   "source": [
    "%%time\n",
    "\n",
    "result = simulator_aer.run(qc, shots = 1024, method = 'statevector').result()\n",
    "counts = result.get_counts()\n",
    "print(counts)"
   ]
  },
  {
   "cell_type": "code",
   "execution_count": null,
   "metadata": {
    "id": "g6EcjIgnyN6P"
   },
   "outputs": [],
   "source": [
    "%%time\n",
    "\n",
    "result = simulator_aer.run(qc, shots = 1024, method = 'matrix_product_state').result()\n",
    "counts = result.get_counts()\n",
    "print(counts)"
   ]
  },
  {
   "cell_type": "markdown",
   "metadata": {
    "id": "40HD5bX6yfbM"
   },
   "source": [
    "** Inclusão de ruído**"
   ]
  },
  {
   "cell_type": "code",
   "execution_count": null,
   "metadata": {
    "id": "t6hXvaX0yizA"
   },
   "outputs": [],
   "source": [
    "qc = QuantumCircuit(2,2)\n",
    "qc.h(0)\n",
    "qc.cx(0,1)\n",
    "qc.measure([0,1],[0,1])\n",
    "qc.draw('mpl')"
   ]
  },
  {
   "cell_type": "code",
   "execution_count": null,
   "metadata": {
    "id": "aH6pdqZLy8Jg"
   },
   "outputs": [],
   "source": [
    "qc_aer = transpile(qc, backend=simulator_aer)\n",
    "\n",
    "result_ideal = simulator_aer.run(qc_aer, shots = 1024).result()\n",
    "counts_ideal = result_ideal.get_counts()"
   ]
  },
  {
   "cell_type": "code",
   "execution_count": null,
   "metadata": {
    "id": "PxESztBIzL8-"
   },
   "outputs": [],
   "source": [
    "from qiskit.visualization import plot_distribution\n",
    "\n",
    "plot_distribution(counts_ideal)"
   ]
  },
  {
   "cell_type": "code",
   "execution_count": null,
   "metadata": {
    "id": "_ZHJo0hJzaCV"
   },
   "outputs": [],
   "source": [
    "from qiskit_aer import noise"
   ]
  },
  {
   "cell_type": "code",
   "execution_count": null,
   "metadata": {
    "id": "qNpcOdA2zYfE"
   },
   "outputs": [],
   "source": [
    "prob = 0.1\n",
    "error = noise.depolarizing_error(prob,2)\n",
    "\n",
    "noise_model = noise.NoiseModel()\n",
    "noise_model.add_all_qubit_quantum_error(error,['cx'])\n",
    "basis_gate = noise_model.basis_gates\n",
    "\n",
    "result_noisy = simulator_aer.run(qc,\n",
    "                                 shots = 1024,\n",
    "                                 noise_model = noise_model).result()\n",
    "\n",
    "counts_noisy = result_noisy.get_counts()"
   ]
  },
  {
   "cell_type": "code",
   "execution_count": null,
   "metadata": {
    "id": "vldDl-wD1FZ5"
   },
   "outputs": [],
   "source": [
    "plot_distribution([counts_ideal,counts_noisy], title = 'Noiseless vs. Noisy Simulated counts')"
   ]
  },
  {
   "cell_type": "markdown",
   "metadata": {
    "id": "XVkjw4-D2YAP"
   },
   "source": [
    "# **Resumo:**\n",
    "\n",
    "**Use o AerSimulator para fazer:**\n",
    "\n",
    "* contagens/amostras em circuitos grandes\n",
    "* encontrar o statevector/density matriz ed um circuito com medições\n",
    "* simular circuitos com ruídos\n",
    "\n",
    "**Não use para:**\n",
    "\n",
    "* corresponder ao formato de saída do qiskit IBM runtime"
   ]
  }
 ],
 "metadata": {
  "colab": {
   "authorship_tag": "ABX9TyOcNDYlo6A3WOHNkxr2gYTh",
   "provenance": []
  },
  "kernelspec": {
   "display_name": "Python 3 (ipykernel)",
   "language": "python",
   "name": "python3"
  },
  "language_info": {
   "codemirror_mode": {
    "name": "ipython",
    "version": 3
   },
   "file_extension": ".py",
   "mimetype": "text/x-python",
   "name": "python",
   "nbconvert_exporter": "python",
   "pygments_lexer": "ipython3",
   "version": "3.12.2"
  }
 },
 "nbformat": 4,
 "nbformat_minor": 4
}
